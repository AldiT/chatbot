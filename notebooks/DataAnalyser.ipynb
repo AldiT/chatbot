{
 "cells": [
  {
   "cell_type": "code",
   "execution_count": 23,
   "metadata": {},
   "outputs": [],
   "source": [
    "import tensorflow as tf\n",
    "import matplotlib.pyplot as plt\n",
    "import matplotlib\n",
    "import numpy as np\n",
    "import pandas as pd\n",
    "from tqdm import tqdm\n",
    "import spacy\n",
    "import json\n",
    "import os\n",
    "import sys"
   ]
  },
  {
   "cell_type": "code",
   "execution_count": 13,
   "metadata": {},
   "outputs": [],
   "source": [
    "base_path = \"../data/rDany/\"\n",
    "json_file = os.path.join(base_path, \"rdany_conversations_2016-03-01.json\")"
   ]
  },
  {
   "cell_type": "code",
   "execution_count": 14,
   "metadata": {},
   "outputs": [],
   "source": [
    "with open(json_file, \"r\") as f:\n",
    "    data = json.load(f)"
   ]
  },
  {
   "cell_type": "code",
   "execution_count": 15,
   "metadata": {},
   "outputs": [],
   "source": [
    "conversations = []\n",
    "\n",
    "for _, conversation in data.items():\n",
    "    conversations.append(conversation)"
   ]
  },
  {
   "cell_type": "code",
   "execution_count": 20,
   "metadata": {},
   "outputs": [
    {
     "data": {
      "text/plain": [
       "[{'date': 0,\n",
       "  'hashed_message_id': 'd30e38ab76335de150c36695ed2f35218070591291acfad772d11e8a60b039cd',\n",
       "  'source': 'human',\n",
       "  'text': '[START]'},\n",
       " {'date': 73,\n",
       "  'hashed_message_id': 'df0dbd1ced47c3837f2f07519af66850748bac8a9528483a807ec2eadf8f15ac',\n",
       "  'source': 'human',\n",
       "  'text': 'Sex'},\n",
       " {'date': 92,\n",
       "  'hashed_message_id': '27c5cd749765ecceda5e70a6e2e9584278bfc0a118a350f5327b484fce8eff9b',\n",
       "  'source': 'robot',\n",
       "  'text': 'What???'},\n",
       " {'date': 118,\n",
       "  'hashed_message_id': '3f7b6a6ba74541c7463988e1299a7e95708fc5d1f7cdfe16d6eb679482077c25',\n",
       "  'source': 'human',\n",
       "  'text': 'Film sex'},\n",
       " {'date': 140,\n",
       "  'hashed_message_id': '32f23cf1e1eadd5494c6ac8b59b30b6876f2b694d0357866d4ea90acca242313',\n",
       "  'source': 'robot',\n",
       "  'text': 'What are you talking about?'}]"
      ]
     },
     "execution_count": 20,
     "metadata": {},
     "output_type": "execute_result"
    }
   ],
   "source": [
    "conversations[0]"
   ]
  },
  {
   "cell_type": "code",
   "execution_count": 22,
   "metadata": {},
   "outputs": [
    {
     "name": "stdout",
     "output_type": "stream",
     "text": [
      "Information about the conversations \n",
      "Total number of messages: 6168\n",
      "Number of human messages: 3737\n",
      "Number of robot messages: 2588\n"
     ]
    }
   ],
   "source": [
    "total_num_messages = 0\n",
    "robot_messages = 0\n",
    "human_messages = 0\n",
    "\n",
    "for conversation in conversations:\n",
    "    total_num_messages += len(conversation)-1\n",
    "    for message in conversation:\n",
    "        if message['source'] == 'human':\n",
    "            human_messages += 1\n",
    "        if message['source'] == 'robot':\n",
    "            robot_messages += 1\n",
    "        \n",
    "    \n",
    "print(\"Information about the conversations \")\n",
    "print(f\"Total number of messages: {total_num_messages}\")\n",
    "print(f\"Number of human messages: {human_messages}\")\n",
    "print(f\"Number of robot messages: {robot_messages}\")"
   ]
  },
  {
   "cell_type": "code",
   "execution_count": 25,
   "metadata": {},
   "outputs": [
    {
     "name": "stderr",
     "output_type": "stream",
     "text": [
      "100%|██████████| 157/157 [00:47<00:00,  3.29it/s]\n"
     ]
    }
   ],
   "source": [
    "nlp = spacy.load(\"en_core_web_sm\")\n",
    "words = set()\n",
    "\n",
    "for conversation in tqdm(conversations):\n",
    "    for message in conversation:\n",
    "        text = message['text']\n",
    "        doc = nlp(text)\n",
    "        for token in doc:\n",
    "            words.add(token.text)"
   ]
  },
  {
   "cell_type": "code",
   "execution_count": 26,
   "metadata": {},
   "outputs": [
    {
     "data": {
      "text/plain": [
       "6051"
      ]
     },
     "execution_count": 26,
     "metadata": {},
     "output_type": "execute_result"
    }
   ],
   "source": [
    "len(words)"
   ]
  },
  {
   "cell_type": "code",
   "execution_count": null,
   "metadata": {},
   "outputs": [],
   "source": []
  }
 ],
 "metadata": {
  "kernelspec": {
   "display_name": "Python 3",
   "language": "python",
   "name": "python3"
  },
  "language_info": {
   "codemirror_mode": {
    "name": "ipython",
    "version": 3
   },
   "file_extension": ".py",
   "mimetype": "text/x-python",
   "name": "python",
   "nbconvert_exporter": "python",
   "pygments_lexer": "ipython3",
   "version": "3.8.6"
  }
 },
 "nbformat": 4,
 "nbformat_minor": 4
}
