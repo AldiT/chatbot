{
 "cells": [
  {
   "cell_type": "code",
   "execution_count": 3,
   "metadata": {},
   "outputs": [],
   "source": [
    "import numpy as np\n",
    "import tensorflow as tf\n",
    "import matplotlib\n",
    "import matplotlib.pyplot as plt\n",
    "import os\n",
    "import sys\n",
    "import re\n",
    "import yaml"
   ]
  },
  {
   "cell_type": "markdown",
   "metadata": {},
   "source": [
    "## Get Data"
   ]
  },
  {
   "cell_type": "code",
   "execution_count": 36,
   "metadata": {},
   "outputs": [
    {
     "name": "stdout",
     "output_type": "stream",
     "text": [
      "that is interesting. i've hardly read 40 books last year. how much do you read (in words) ? \n",
      "i don't count my readings in words, but i've access to wikipedia and some books. i read to find specific information that i need to answer the questions.. 40 books in a year is a lot for most people !  congratulations ! \n"
     ]
    },
    {
     "name": "stderr",
     "output_type": "stream",
     "text": [
      "<ipython-input-36-eb8f65b3952f>:2: YAMLLoadWarning: calling yaml.load() without Loader=... is deprecated, as the default Loader is unsafe. Please read https://msg.pyyaml.org/load for full details.\n",
      "  config = yaml.load(stream)\n"
     ]
    }
   ],
   "source": [
    "with open(\"config.yaml\", \"r\") as stream:\n",
    "    config = yaml.load(stream)\n",
    "    \n",
    "human_text = os.path.join(config[\"data-path\"], \"human_text.txt\")\n",
    "robot_text = os.path.join(config[\"data-path\"], \"robot_text.txt\")\n",
    "\n",
    "with open(human_text, \"r\") as stream:\n",
    "    human_lines = stream.read().split(\"\\n\")\n",
    "with open(robot_text, \"r\") as stream:\n",
    "    robot_lines = stream.read().split(\"\\n\")\n",
    "\n",
    "print(human_lines[10])\n",
    "print(robot_lines[10])"
   ]
  },
  {
   "cell_type": "markdown",
   "metadata": {},
   "source": [
    "## Preprocessing"
   ]
  },
  {
   "cell_type": "code",
   "execution_count": 37,
   "metadata": {},
   "outputs": [
    {
     "data": {
      "text/plain": [
       "'that is interesting i ve hardly read 40 books last year how much do you read in words'"
      ]
     },
     "execution_count": 37,
     "metadata": {},
     "output_type": "execute_result"
    }
   ],
   "source": [
    "\n",
    "human_lines = [re.sub(r\"\\[\\w+\\]\",'hi',line) for line in human_lines] # remove the square surrounded words [start], [voice] etc. with hello\n",
    "human_lines = [\" \".join(re.findall(r\"\\w+\",line)) for line in human_lines] #remove non-word characters [A-Za-z0-9_]\n",
    "robot_lines = [re.sub(r\"\\[\\w+\\]\",'hi',line) for line in robot_lines]\n",
    "robot_lines = [\" \".join(re.findall(r\"\\w+\",line)) for line in robot_lines]\n"
   ]
  },
  {
   "cell_type": "code",
   "execution_count": null,
   "metadata": {},
   "outputs": [],
   "source": []
  },
  {
   "cell_type": "code",
   "execution_count": null,
   "metadata": {},
   "outputs": [],
   "source": []
  }
 ],
 "metadata": {
  "kernelspec": {
   "display_name": "Python 3",
   "language": "python",
   "name": "python3"
  },
  "language_info": {
   "codemirror_mode": {
    "name": "ipython",
    "version": 3
   },
   "file_extension": ".py",
   "mimetype": "text/x-python",
   "name": "python",
   "nbconvert_exporter": "python",
   "pygments_lexer": "ipython3",
   "version": "3.8.6"
  }
 },
 "nbformat": 4,
 "nbformat_minor": 4
}
